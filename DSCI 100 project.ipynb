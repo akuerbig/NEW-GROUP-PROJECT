{
 "cells": [
  {
   "cell_type": "markdown",
   "id": "83beba0c-9984-4378-839e-2bc408203c73",
   "metadata": {},
   "source": [
    "## DSCI 100 Group Project - PLAICRAFT Data Study\n",
    "### Members: Justin Galimpin (59053306), Alexis Kuerbig (15606007), Arjun Sharma (61155750), Ahmad Khattab (90009473)"
   ]
  },
  {
   "cell_type": "markdown",
   "id": "bd072c47-484c-44c2-aaee-71bcee5d59f1",
   "metadata": {},
   "source": [
    "**Introduction**\n",
    "\n",
    "The `players.csv` dataset contains all the individuals who have taken part in the **(PLAI)** research study, which aims to collect data about how people play video games. There are 196 observations within the dataset, and the variables for the given dataset are as follows:\n",
    "\n",
    "* `experience`: An object that stores a value about the player's experience level with Minecraft as Pro, Veteran, Regular, and Amateur.\n",
    "* `subscribe`: Boolean value that indicates whether or not the player is subscribed to the mailing list or not.\n",
    "* `hashedEmail`: Object value that indicates the hashed email of the player.\n",
    "* `played_hours`: Float value that indicates the total number of hours a player has spent playing the game on this server.\n",
    "* `name` : Object value that indicates the player's name.\n",
    "* `gender` : Object value that indicates the player's gender.\n",
    "* `age`: Int value that indicates the player's age.\n",
    "* `individualId`: Unique Player ID (left NaN)\n",
    "* `organizationName`: Player Organization (left NaN)\n",
    "  \n",
    "**Our Question: Can we predict the total hours a player will partake in the study based on their age and/or their experience level?**\n",
    "\n",
    "**Response Variable:** `played_hours`\n",
    "**Predictor Variables:** `experience` `age`\n",
    "\n",
    "Answering this question will give the research group a clear idea of what type of demographic may be able to contribute the most to their study. For example, the results of the question may find a player with X type of experience contributes far more than those with Y type of experience, or that a player with Z type of experience actually rarely contributes at all. The key variables to help us answer this question are `age`, `experience`, and `played_hours` in `players.csv`. "
   ]
  },
  {
   "cell_type": "code",
   "execution_count": 1,
   "id": "09943bb0-08d8-4ef3-8da4-63e499a83820",
   "metadata": {},
   "outputs": [],
   "source": [
    "import pandas as pd\n",
    "import altair as alt\n",
    "import numpy as np\n",
    "from sklearn import set_config\n",
    "from sklearn.model_selection import GridSearchCV, cross_validate, train_test_split\n",
    "from sklearn.neighbors import KNeighborsRegressor\n",
    "from sklearn.pipeline import make_pipeline\n",
    "from sklearn.preprocessing import StandardScaler\n",
    "from sklearn.metrics import mean_squared_error\n",
    "from sklearn.linear_model import LinearRegression\n",
    "from sklearn.model_selection import train_test_split\n",
    "from sklearn.metrics import mean_squared_error"
   ]
  },
  {
   "cell_type": "markdown",
   "id": "002bf0fb-fc88-4cc5-8d0b-5e662d4da15b",
   "metadata": {},
   "source": [
    "**Method and Results**"
   ]
  },
  {
   "cell_type": "code",
   "execution_count": 2,
   "id": "c35173c5-94d4-4ba3-8d17-24c0275e0e8a",
   "metadata": {},
   "outputs": [],
   "source": [
    "players = pd.read_csv(\"players.csv\")\n",
    "sessions = pd.read_csv(\"sessions.csv\")"
   ]
  },
  {
   "cell_type": "code",
   "execution_count": 4,
   "id": "308c29e7-e9d1-4699-9a15-89f4948e96be",
   "metadata": {},
   "outputs": [
    {
     "data": {
      "text/plain": [
       "np.float64(25.362170401998327)"
      ]
     },
     "execution_count": 4,
     "metadata": {},
     "output_type": "execute_result"
    }
   ],
   "source": [
    "players[\"experience\"] = players[\"experience\"].replace({\n",
    "    \"Beginner\" : 1.0,\n",
    "    \"Amateur\" : 2.0,\n",
    "    \"Regular\" : 3.0,\n",
    "    \"Veteran\" : 4.0,\n",
    "    \"Pro\" : 5.0\n",
    "})\n",
    "\n",
    "\n",
    "# Split our data\n",
    "players_training, players_testing = train_test_split(\n",
    "    players,\n",
    "    test_size=0.20,\n",
    "    random_state=2000,\n",
    ")\n",
    "X_train = players_training[[\"experience\",\"age\"]]\n",
    "y_train = players_training[\"played_hours\"]\n",
    "\n",
    "X_test = players_testing[[\"experience\",\"age\"]]\n",
    "y_test = players_testing[\"played_hours\"]\n",
    "\n",
    "\n",
    "\n",
    "\n",
    "\n",
    "# knn model building\n",
    "\n",
    "players_pipe = make_pipeline(\n",
    "    StandardScaler(),\n",
    "    KNeighborsRegressor()\n",
    ")\n",
    "\n",
    "players_cv = pd.DataFrame(\n",
    "    cross_validate(\n",
    "        players_pipe,\n",
    "        X_train,\n",
    "        y_train,\n",
    "        scoring=\"neg_root_mean_squared_error\",\n",
    "        return_train_score=True,\n",
    "        cv=5\n",
    "    )\n",
    ")\n",
    "players_cv\n",
    "\n",
    "np.random.seed(101)\n",
    "param_grid = {'kneighborsregressor__n_neighbors': range(1, 100, 1)}\n",
    "players_tuned = GridSearchCV(players_pipe, param_grid, cv=5, n_jobs=-1, scoring=\"neg_root_mean_squared_error\")\n",
    "players_results = pd.DataFrame(players_tuned.fit(X_train, y_train).cv_results_)\n",
    "players_results\n",
    "\n",
    "\n",
    "# This is where we chose the \"best\" k value to use, by calling best_params_ on players_tuned\n",
    "players_min = players_tuned.best_params_\n",
    "\n",
    "\n",
    "# This is where we called to show the RMSE of the model, by calling best_score_\n",
    "playersbest_RMSE = -players_tuned.best_score_\n",
    "\n",
    "\n",
    "\n",
    "\n",
    "\n",
    "players_min\n",
    "playersbest_RMSE\n",
    "\n",
    "\n",
    "\n",
    "\n",
    "# See how our model (players_tuned) predicts our test data (X_test)\n",
    "np.random.seed(1234)\n",
    "players_prediction = players_tuned.predict(X_test)\n",
    "\n",
    "\n",
    "\n",
    "# Use the test set to calculate RMSPE. Use y_test to compare to the PREDICTIONS our model makes\n",
    "players_summary = mean_squared_error(y_test, players_prediction)**(1/2)\n",
    "\n",
    "players_prediction\n",
    "players_summary"
   ]
  },
  {
   "cell_type": "code",
   "execution_count": null,
   "id": "8c59fa6d-3b41-4c5b-9221-4e6c3682fc3f",
   "metadata": {},
   "outputs": [],
   "source": [
    "# Linear Regression model building\n",
    "\n",
    "\n",
    "\n",
    "lm = LinearRegression()\n",
    "lm_fit = lm.fit(X_train, y_train)\n",
    "players_preds = players_training.assign(\n",
    "    predictions= lm.predict(X_train)\n",
    ")\n",
    "test_preds = players_testing.assign(\n",
    "            predictions = lm.predict(X_test)\n",
    ")\n",
    "lm_rmspe = mean_squared_error(y_test, test_preds[\"predictions\"])**(1/2)\n",
    "lm_rmspe "
   ]
  },
  {
   "cell_type": "markdown",
   "id": "9afea149-ebbc-43e1-b970-4d8858506dfc",
   "metadata": {},
   "source": [
    "**Discussion**"
   ]
  },
  {
   "cell_type": "markdown",
   "id": "557802e4-72a7-44ef-ba75-5dd4a59aadbc",
   "metadata": {},
   "source": [
    "**References (If Any)**"
   ]
  },
  {
   "cell_type": "code",
   "execution_count": null,
   "id": "98b55c1b-4d20-4e36-a0b8-4c632d49004b",
   "metadata": {},
   "outputs": [],
   "source": [
    "# Does this work?"
   ]
  },
  {
   "cell_type": "code",
   "execution_count": null,
   "id": "1524d023-3d11-4ff2-9262-83520d0f6d19",
   "metadata": {},
   "outputs": [],
   "source": []
  }
 ],
 "metadata": {
  "kernelspec": {
   "display_name": "Python 3 (ipykernel)",
   "language": "python",
   "name": "python3"
  },
  "language_info": {
   "codemirror_mode": {
    "name": "ipython",
    "version": 3
   },
   "file_extension": ".py",
   "mimetype": "text/x-python",
   "name": "python",
   "nbconvert_exporter": "python",
   "pygments_lexer": "ipython3",
   "version": "3.11.9"
  }
 },
 "nbformat": 4,
 "nbformat_minor": 5
}
